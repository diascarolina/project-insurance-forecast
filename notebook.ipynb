{
 "cells": [
  {
   "cell_type": "markdown",
   "id": "4a61684b-60f5-462b-95fe-28a8efe04c70",
   "metadata": {},
   "source": [
    "# Health Insurance Price Forecast"
   ]
  },
  {
   "cell_type": "markdown",
   "id": "cce9290b-36ed-4de0-b0b1-c6f3e30d97ad",
   "metadata": {},
   "source": [
    "# Libraries and Settings"
   ]
  },
  {
   "cell_type": "code",
   "execution_count": 1,
   "id": "48e1fb82-67c9-4825-bafb-fbfa362011de",
   "metadata": {},
   "outputs": [],
   "source": [
    "import pandas as pd\n",
    "import numpy as np\n",
    "import matplotlib.pyplot as plt\n",
    "import seaborn as sns\n",
    "\n",
    "from sklearn.model_selection import train_test_split\n",
    "from sklearn.linear_model import LinearRegression, Ridge, Lasso, BayesianRidge\n",
    "from sklearn.ensemble import RandomForestRegressor\n",
    "from sklearn.svm import SVR\n",
    "from sklearn.dummy import DummyRegressor\n",
    "from sklearn.metrics import mean_absolute_error, mean_squared_error\n",
    "from sklearn.model_selection import GridSearchCV\n",
    "\n",
    "import pickle"
   ]
  },
  {
   "cell_type": "code",
   "execution_count": 2,
   "id": "1897d4ac-c8d4-4d11-8b46-0803d46fc87d",
   "metadata": {},
   "outputs": [],
   "source": [
    "# source: https://github.com/empathy87/storytelling-with-data\n",
    "\n",
    "# colors\n",
    "GRAY1, GRAY2, GRAY3 = '#231F20', '#414040', '#555655'\n",
    "GRAY4, GRAY5, GRAY6 = '#646369', '#76787B', '#828282'\n",
    "GRAY7, GRAY8, GRAY9 = '#929497', '#A6A6A5', '#BFBEBE'\n",
    "BLUE1, BLUE2, BLUE3, BLUE4 = '#174A7E', '#4A81BF', '#94B2D7', '#94AFC5'\n",
    "RED1, RED2 = '#C3514E', '#E6BAB7'\n",
    "GREEN1, GREEN2 = '#0C8040', '#9ABB59'\n",
    "ORANGE1 = '#F79747'\n",
    "\n",
    "# fonts\n",
    "plt.rcParams['font.family'] = 'Arial'\n",
    "plt.rcParams['mathtext.fontset'] = 'custom'\n",
    "plt.rcParams['mathtext.bf'] = 'Arial:bold'\n",
    "plt.rcParams['mathtext.it'] = 'Arial:italic'"
   ]
  },
  {
   "cell_type": "code",
   "execution_count": 3,
   "id": "ab35b85f-ffdc-412a-ab41-f394908db288",
   "metadata": {},
   "outputs": [],
   "source": [
    "# setting random state\n",
    "rs = 42847"
   ]
  },
  {
   "cell_type": "markdown",
   "id": "88a3be1b-b25c-4560-a875-7046f49b1d66",
   "metadata": {},
   "source": [
    "# Functions"
   ]
  },
  {
   "cell_type": "code",
   "execution_count": 4,
   "id": "e45c2073-b282-44a1-8da0-f4300a6d9ae5",
   "metadata": {},
   "outputs": [],
   "source": [
    "def run_model(model, print_values = 1, return_predictions = 0):\n",
    "    \"\"\"\n",
    "    Function that receives a machine learning model\n",
    "    and returns its metrics.\n",
    "    \n",
    "    print_values = 1: print the results of the calculated metrics\n",
    "    return_predictions = 1: returns the y predictions together with the metrics\n",
    "    \"\"\"\n",
    "    model.fit(X_train, y_train)\n",
    "    y_predictions = model.predict(X_test)\n",
    "    mae = mean_absolute_error(y_test, y_predictions)\n",
    "    mse = mean_squared_error(y_test, y_predictions)\n",
    "    rmse = np.sqrt(mse)\n",
    "    if print_values:\n",
    "        print(f\"MAE: {round(mae, 3)}\")\n",
    "        print(f\"MSE: {round(mse, 3)}\")\n",
    "        print(f\"RMSE: {round(rmse, 3)}\")\n",
    "    if return_predictions:\n",
    "        return y_predictions, mae, mse, rmse\n",
    "    return mae, mse, rmse"
   ]
  },
  {
   "cell_type": "markdown",
   "id": "822a0c6c-436e-4b52-8c9c-8c331cd931cc",
   "metadata": {
    "tags": []
   },
   "source": [
    "# Data Checking and Cleaning"
   ]
  },
  {
   "cell_type": "code",
   "execution_count": 5,
   "id": "696dc6c2-f409-47bf-bd45-7b9552f06e14",
   "metadata": {},
   "outputs": [],
   "source": [
    "df = pd.read_csv('insurance.csv')"
   ]
  },
  {
   "cell_type": "code",
   "execution_count": 6,
   "id": "8c52b431-5c65-4ccc-a0c8-634bf6cc117d",
   "metadata": {},
   "outputs": [
    {
     "data": {
      "text/html": [
       "<div>\n",
       "<style scoped>\n",
       "    .dataframe tbody tr th:only-of-type {\n",
       "        vertical-align: middle;\n",
       "    }\n",
       "\n",
       "    .dataframe tbody tr th {\n",
       "        vertical-align: top;\n",
       "    }\n",
       "\n",
       "    .dataframe thead th {\n",
       "        text-align: right;\n",
       "    }\n",
       "</style>\n",
       "<table border=\"1\" class=\"dataframe\">\n",
       "  <thead>\n",
       "    <tr style=\"text-align: right;\">\n",
       "      <th></th>\n",
       "      <th>age</th>\n",
       "      <th>sex</th>\n",
       "      <th>bmi</th>\n",
       "      <th>children</th>\n",
       "      <th>smoker</th>\n",
       "      <th>region</th>\n",
       "      <th>charges</th>\n",
       "    </tr>\n",
       "  </thead>\n",
       "  <tbody>\n",
       "    <tr>\n",
       "      <th>0</th>\n",
       "      <td>19</td>\n",
       "      <td>female</td>\n",
       "      <td>27.900</td>\n",
       "      <td>0</td>\n",
       "      <td>yes</td>\n",
       "      <td>southwest</td>\n",
       "      <td>16884.92400</td>\n",
       "    </tr>\n",
       "    <tr>\n",
       "      <th>1</th>\n",
       "      <td>18</td>\n",
       "      <td>male</td>\n",
       "      <td>33.770</td>\n",
       "      <td>1</td>\n",
       "      <td>no</td>\n",
       "      <td>southeast</td>\n",
       "      <td>1725.55230</td>\n",
       "    </tr>\n",
       "    <tr>\n",
       "      <th>2</th>\n",
       "      <td>28</td>\n",
       "      <td>male</td>\n",
       "      <td>33.000</td>\n",
       "      <td>3</td>\n",
       "      <td>no</td>\n",
       "      <td>southeast</td>\n",
       "      <td>4449.46200</td>\n",
       "    </tr>\n",
       "    <tr>\n",
       "      <th>3</th>\n",
       "      <td>33</td>\n",
       "      <td>male</td>\n",
       "      <td>22.705</td>\n",
       "      <td>0</td>\n",
       "      <td>no</td>\n",
       "      <td>northwest</td>\n",
       "      <td>21984.47061</td>\n",
       "    </tr>\n",
       "    <tr>\n",
       "      <th>4</th>\n",
       "      <td>32</td>\n",
       "      <td>male</td>\n",
       "      <td>28.880</td>\n",
       "      <td>0</td>\n",
       "      <td>no</td>\n",
       "      <td>northwest</td>\n",
       "      <td>3866.85520</td>\n",
       "    </tr>\n",
       "  </tbody>\n",
       "</table>\n",
       "</div>"
      ],
      "text/plain": [
       "   age     sex     bmi  children smoker     region      charges\n",
       "0   19  female  27.900         0    yes  southwest  16884.92400\n",
       "1   18    male  33.770         1     no  southeast   1725.55230\n",
       "2   28    male  33.000         3     no  southeast   4449.46200\n",
       "3   33    male  22.705         0     no  northwest  21984.47061\n",
       "4   32    male  28.880         0     no  northwest   3866.85520"
      ]
     },
     "execution_count": 6,
     "metadata": {},
     "output_type": "execute_result"
    }
   ],
   "source": [
    "df.head()"
   ]
  },
  {
   "cell_type": "code",
   "execution_count": 7,
   "id": "99784ce8-253b-4ca6-892e-5e159b6d5a5e",
   "metadata": {},
   "outputs": [
    {
     "data": {
      "text/plain": [
       "age         0\n",
       "sex         0\n",
       "bmi         0\n",
       "children    0\n",
       "smoker      0\n",
       "region      0\n",
       "charges     0\n",
       "dtype: int64"
      ]
     },
     "execution_count": 7,
     "metadata": {},
     "output_type": "execute_result"
    }
   ],
   "source": [
    "df.isnull().sum()"
   ]
  },
  {
   "cell_type": "code",
   "execution_count": 8,
   "id": "da176f8f-1df3-427e-adab-be84d7774d9b",
   "metadata": {},
   "outputs": [
    {
     "name": "stdout",
     "output_type": "stream",
     "text": [
      "<class 'pandas.core.frame.DataFrame'>\n",
      "RangeIndex: 1338 entries, 0 to 1337\n",
      "Data columns (total 7 columns):\n",
      " #   Column    Non-Null Count  Dtype  \n",
      "---  ------    --------------  -----  \n",
      " 0   age       1338 non-null   int64  \n",
      " 1   sex       1338 non-null   object \n",
      " 2   bmi       1338 non-null   float64\n",
      " 3   children  1338 non-null   int64  \n",
      " 4   smoker    1338 non-null   object \n",
      " 5   region    1338 non-null   object \n",
      " 6   charges   1338 non-null   float64\n",
      "dtypes: float64(2), int64(2), object(3)\n",
      "memory usage: 73.3+ KB\n"
     ]
    }
   ],
   "source": [
    "df.info()"
   ]
  },
  {
   "cell_type": "code",
   "execution_count": 9,
   "id": "325c755c-8b6c-44f8-aedb-699582784b70",
   "metadata": {},
   "outputs": [
    {
     "data": {
      "text/html": [
       "<div>\n",
       "<style scoped>\n",
       "    .dataframe tbody tr th:only-of-type {\n",
       "        vertical-align: middle;\n",
       "    }\n",
       "\n",
       "    .dataframe tbody tr th {\n",
       "        vertical-align: top;\n",
       "    }\n",
       "\n",
       "    .dataframe thead th {\n",
       "        text-align: right;\n",
       "    }\n",
       "</style>\n",
       "<table border=\"1\" class=\"dataframe\">\n",
       "  <thead>\n",
       "    <tr style=\"text-align: right;\">\n",
       "      <th></th>\n",
       "      <th>age</th>\n",
       "      <th>bmi</th>\n",
       "      <th>children</th>\n",
       "      <th>charges</th>\n",
       "    </tr>\n",
       "  </thead>\n",
       "  <tbody>\n",
       "    <tr>\n",
       "      <th>count</th>\n",
       "      <td>1338.000000</td>\n",
       "      <td>1338.000000</td>\n",
       "      <td>1338.000000</td>\n",
       "      <td>1338.000000</td>\n",
       "    </tr>\n",
       "    <tr>\n",
       "      <th>mean</th>\n",
       "      <td>39.207025</td>\n",
       "      <td>30.663397</td>\n",
       "      <td>1.094918</td>\n",
       "      <td>13270.422265</td>\n",
       "    </tr>\n",
       "    <tr>\n",
       "      <th>std</th>\n",
       "      <td>14.049960</td>\n",
       "      <td>6.098187</td>\n",
       "      <td>1.205493</td>\n",
       "      <td>12110.011237</td>\n",
       "    </tr>\n",
       "    <tr>\n",
       "      <th>min</th>\n",
       "      <td>18.000000</td>\n",
       "      <td>15.960000</td>\n",
       "      <td>0.000000</td>\n",
       "      <td>1121.873900</td>\n",
       "    </tr>\n",
       "    <tr>\n",
       "      <th>25%</th>\n",
       "      <td>27.000000</td>\n",
       "      <td>26.296250</td>\n",
       "      <td>0.000000</td>\n",
       "      <td>4740.287150</td>\n",
       "    </tr>\n",
       "    <tr>\n",
       "      <th>50%</th>\n",
       "      <td>39.000000</td>\n",
       "      <td>30.400000</td>\n",
       "      <td>1.000000</td>\n",
       "      <td>9382.033000</td>\n",
       "    </tr>\n",
       "    <tr>\n",
       "      <th>75%</th>\n",
       "      <td>51.000000</td>\n",
       "      <td>34.693750</td>\n",
       "      <td>2.000000</td>\n",
       "      <td>16639.912515</td>\n",
       "    </tr>\n",
       "    <tr>\n",
       "      <th>max</th>\n",
       "      <td>64.000000</td>\n",
       "      <td>53.130000</td>\n",
       "      <td>5.000000</td>\n",
       "      <td>63770.428010</td>\n",
       "    </tr>\n",
       "  </tbody>\n",
       "</table>\n",
       "</div>"
      ],
      "text/plain": [
       "               age          bmi     children       charges\n",
       "count  1338.000000  1338.000000  1338.000000   1338.000000\n",
       "mean     39.207025    30.663397     1.094918  13270.422265\n",
       "std      14.049960     6.098187     1.205493  12110.011237\n",
       "min      18.000000    15.960000     0.000000   1121.873900\n",
       "25%      27.000000    26.296250     0.000000   4740.287150\n",
       "50%      39.000000    30.400000     1.000000   9382.033000\n",
       "75%      51.000000    34.693750     2.000000  16639.912515\n",
       "max      64.000000    53.130000     5.000000  63770.428010"
      ]
     },
     "execution_count": 9,
     "metadata": {},
     "output_type": "execute_result"
    }
   ],
   "source": [
    "df.describe()"
   ]
  },
  {
   "cell_type": "markdown",
   "id": "e93d2c66-dad4-4d08-9dbc-8fd8b623cdb8",
   "metadata": {
    "jp-MarkdownHeadingCollapsed": true,
    "tags": []
   },
   "source": [
    "# Exploratory Data Analysis"
   ]
  },
  {
   "cell_type": "code",
   "execution_count": 10,
   "id": "fdec0f83-f4ae-4f33-8b25-4829f806040c",
   "metadata": {},
   "outputs": [
    {
     "data": {
      "image/png": "[encoded data removed]",
      "text/plain": [
       "<Figure size 1080x576 with 2 Axes>"
      ]
     },
     "metadata": {
      "needs_background": "light"
     },
     "output_type": "display_data"
    }
   ],
   "source": [
    "plt.figure(figsize = (15,8))\n",
    "sns.heatmap(df.corr(), cmap = \"coolwarm\", annot = True)\n",
    "plt.xticks(fontsize = 14)\n",
    "plt.yticks(fontsize = 14)\n",
    "plt.show()"
   ]
  },
  {
   "cell_type": "code",
   "execution_count": 11,
   "id": "00eb7cc8-ed3c-433f-8e9e-aeb4d1b5e3e1",
   "metadata": {},
   "outputs": [
    {
     "data": {
      "text/plain": [
       "Text(0.5, 1.0, 'Compare charges based on sex')"
      ]
     },
     "execution_count": 11,
     "metadata": {},
     "output_type": "execute_result"
    },
    {
     "data": {
      "image/png": "[encoded data removed]",
      "text/plain": [
       "<Figure size 432x504 with 1 Axes>"
      ]
     },
     "metadata": {
      "needs_background": "light"
     },
     "output_type": "display_data"
    }
   ],
   "source": [
    "plt.figure(figsize = (6,7))\n",
    "sns.barplot(data = df, x = \"sex\", y = \"charges\")\n",
    "plt.xticks(fontsize = 13)\n",
    "plt.yticks(fontsize = 13)\n",
    "plt.xlabel(\"Sex\", fontsize = 17)\n",
    "plt.ylabel(\"Charges\", fontsize = 17)\n",
    "plt.title(\"Compare charges based on sex\", fontsize = 21)"
   ]
  },
  {
   "cell_type": "code",
   "execution_count": 12,
   "id": "83c3ad11-ab0d-4535-b77d-8e178046eadb",
   "metadata": {},
   "outputs": [
    {
     "data": {
      "image/png": "[encoded data removed]",
      "text/plain": [
       "<Figure size 1080x720 with 1 Axes>"
      ]
     },
     "metadata": {
      "needs_background": "light"
     },
     "output_type": "display_data"
    }
   ],
   "source": [
    "df.age.value_counts().sort_index(ascending = False).plot(kind = 'barh', figsize = (15, 10))\n",
    "plt.show()"
   ]
  },
  {
   "cell_type": "code",
   "execution_count": 13,
   "id": "10f7626f-c277-4735-8e3e-3feefe25e2c0",
   "metadata": {},
   "outputs": [
    {
     "data": {
      "text/plain": [
       "<AxesSubplot:>"
      ]
     },
     "execution_count": 13,
     "metadata": {},
     "output_type": "execute_result"
    },
    {
     "data": {
      "image/png": "[encoded data removed]",
      "text/plain": [
       "<Figure size 1080x720 with 1 Axes>"
      ]
     },
     "metadata": {
      "needs_background": "light"
     },
     "output_type": "display_data"
    }
   ],
   "source": [
    "df.sex.value_counts().plot(kind = 'bar', figsize = (15, 10))"
   ]
  },
  {
   "cell_type": "code",
   "execution_count": 14,
   "id": "3d2fa282-be71-4da2-b08d-6f08b1c49f0c",
   "metadata": {},
   "outputs": [
    {
     "data": {
      "image/png": "[encoded data removed]",
      "text/plain": [
       "<Figure size 1080x720 with 1 Axes>"
      ]
     },
     "metadata": {
      "needs_background": "light"
     },
     "output_type": "display_data"
    }
   ],
   "source": [
    "df.bmi.hist(bins = 50, figsize = (15, 10))\n",
    "plt.show()"
   ]
  },
  {
   "cell_type": "code",
   "execution_count": 15,
   "id": "6d42732a-2280-42b8-b602-b0689c719ef9",
   "metadata": {},
   "outputs": [
    {
     "data": {
      "image/png": "[encoded data removed]",
      "text/plain": [
       "<Figure size 1080x720 with 1 Axes>"
      ]
     },
     "metadata": {
      "needs_background": "light"
     },
     "output_type": "display_data"
    }
   ],
   "source": [
    "df.children.value_counts().sort_index().plot(kind = 'bar', figsize = (15, 10))\n",
    "plt.show()"
   ]
  },
  {
   "cell_type": "code",
   "execution_count": 16,
   "id": "2c1b168a-e94b-43dc-b630-313d1581a236",
   "metadata": {},
   "outputs": [
    {
     "data": {
      "text/plain": [
       "<AxesSubplot:>"
      ]
     },
     "execution_count": 16,
     "metadata": {},
     "output_type": "execute_result"
    },
    {
     "data": {
      "image/png": "[encoded data removed]",
      "text/plain": [
       "<Figure size 1080x720 with 1 Axes>"
      ]
     },
     "metadata": {
      "needs_background": "light"
     },
     "output_type": "display_data"
    }
   ],
   "source": [
    "df.smoker.value_counts().plot(kind = 'bar', figsize = (15, 10))"
   ]
  },
  {
   "cell_type": "code",
   "execution_count": 17,
   "id": "00806416-bea8-48db-8b30-a89474c7e5a8",
   "metadata": {},
   "outputs": [
    {
     "data": {
      "text/plain": [
       "<AxesSubplot:>"
      ]
     },
     "execution_count": 17,
     "metadata": {},
     "output_type": "execute_result"
    },
    {
     "data": {
      "image/png": "[encoded data removed]",
      "text/plain": [
       "<Figure size 1080x720 with 1 Axes>"
      ]
     },
     "metadata": {
      "needs_background": "light"
     },
     "output_type": "display_data"
    }
   ],
   "source": [
    "df.region.value_counts().plot(kind = 'bar', figsize = (15, 10))"
   ]
  },
  {
   "cell_type": "code",
   "execution_count": 18,
   "id": "d6de83ab-04db-4e64-920e-4e737e45b65c",
   "metadata": {},
   "outputs": [
    {
     "data": {
      "text/plain": [
       "<AxesSubplot:>"
      ]
     },
     "execution_count": 18,
     "metadata": {},
     "output_type": "execute_result"
    },
    {
     "data": {
      "image/png": "[encoded data removed]",
      "text/plain": [
       "<Figure size 1080x720 with 1 Axes>"
      ]
     },
     "metadata": {
      "needs_background": "light"
     },
     "output_type": "display_data"
    }
   ],
   "source": [
    "df.charges.hist(bins = 100, figsize = (15, 10))"
   ]
  },
  {
   "cell_type": "markdown",
   "id": "2b1893e5-60b3-4dbd-8fc1-4673b61b2d44",
   "metadata": {},
   "source": [
    "# Feature Importance"
   ]
  },
  {
   "cell_type": "markdown",
   "id": "b0c80899-a3a0-4290-a4a4-8029d4a8ca3c",
   "metadata": {},
   "source": [
    "# Model Prediction"
   ]
  },
  {
   "cell_type": "markdown",
   "id": "6c9ca204-903c-4710-b925-6c612a3726fb",
   "metadata": {
    "tags": []
   },
   "source": [
    "## Preparation"
   ]
  },
  {
   "cell_type": "code",
   "execution_count": 19,
   "id": "716ca5d5-d2d5-437b-97e7-81c2a522a787",
   "metadata": {},
   "outputs": [],
   "source": [
    "df.sex = df.sex.map({\"female\": 1, \"male\": 0})\n",
    "df.region = df.region.map({'southwest': 0, 'southeast': 1, 'northwest': 2, 'northeast': 3})\n",
    "df.smoker = df.smoker.map({\"yes\": 1, \"no\": 0})"
   ]
  },
  {
   "cell_type": "code",
   "execution_count": 20,
   "id": "339f3dcc-4e6d-40be-92a3-4045f752d431",
   "metadata": {},
   "outputs": [],
   "source": [
    "# df = pd.get_dummies(df, columns = ['sex', 'region', 'smoker'])"
   ]
  },
  {
   "cell_type": "code",
   "execution_count": 21,
   "id": "77e50de9-454c-42ec-9faf-9d55962d69af",
   "metadata": {},
   "outputs": [],
   "source": [
    "X = df.drop('charges', axis = 1)\n",
    "y = df.charges"
   ]
  },
  {
   "cell_type": "code",
   "execution_count": 22,
   "id": "fbf14dc0-7f80-4fb9-be02-429c0f1e5a5a",
   "metadata": {},
   "outputs": [],
   "source": [
    "X_train, X_test, y_train, y_test = train_test_split(X, y, random_state = rs)"
   ]
  },
  {
   "cell_type": "code",
   "execution_count": 23,
   "id": "43c06d9f-3cad-4ec0-b216-0d8f763681af",
   "metadata": {},
   "outputs": [
    {
     "name": "stdout",
     "output_type": "stream",
     "text": [
      "X train size: 1003 || y train size: 1003\n",
      "X test size: 335 || y train size: 335\n"
     ]
    }
   ],
   "source": [
    "print(f'X train size: {len(X_train)} || y train size: {len(y_train)}')\n",
    "print(f'X test size: {len(X_test)} || y train size: {len(y_test)}')"
   ]
  },
  {
   "cell_type": "markdown",
   "id": "58a8cc2b-1579-4783-a9cc-2754df9aa788",
   "metadata": {},
   "source": [
    "## 00 Dummy Model"
   ]
  },
  {
   "cell_type": "code",
   "execution_count": 24,
   "id": "91cb4121-fe22-4418-a6cd-19774b824d7c",
   "metadata": {},
   "outputs": [],
   "source": [
    "dummy = DummyRegressor(strategy = 'mean')"
   ]
  },
  {
   "cell_type": "code",
   "execution_count": 25,
   "id": "55633607-57e1-463f-bd08-2abcc9ba2b4b",
   "metadata": {},
   "outputs": [
    {
     "name": "stdout",
     "output_type": "stream",
     "text": [
      "MAE: 9668.122\n",
      "MSE: 174387341.422\n",
      "RMSE: 13205.58\n"
     ]
    }
   ],
   "source": [
    "mae_dummy, mse_dummy, rmse_dummy = run_model(dummy)"
   ]
  },
  {
   "cell_type": "markdown",
   "id": "21ed3c87-70e1-4532-b8a1-b5036e17b1a1",
   "metadata": {},
   "source": [
    "## 01 Linear Regression"
   ]
  },
  {
   "cell_type": "code",
   "execution_count": 26,
   "id": "f9531153-2643-4062-9b47-a53bdb9cb0a6",
   "metadata": {},
   "outputs": [],
   "source": [
    "linreg = LinearRegression()"
   ]
  },
  {
   "cell_type": "code",
   "execution_count": 27,
   "id": "1fcd7703-9acb-43d0-a414-633490f6516a",
   "metadata": {},
   "outputs": [
    {
     "name": "stdout",
     "output_type": "stream",
     "text": [
      "MAE: 4532.344\n",
      "MSE: 43075124.028\n",
      "RMSE: 6563.164\n"
     ]
    }
   ],
   "source": [
    "mae_linreg, mse_linreg, rmse_linreg = run_model(linreg)"
   ]
  },
  {
   "cell_type": "markdown",
   "id": "e48037aa-a30b-4d46-ae0a-cc546844bb6f",
   "metadata": {},
   "source": [
    "## 02 RandomForestRegressor"
   ]
  },
  {
   "cell_type": "code",
   "execution_count": 28,
   "id": "550afebf-7c5b-4405-853e-aff3cb8d28b4",
   "metadata": {},
   "outputs": [],
   "source": [
    "randomreg = RandomForestRegressor(random_state = rs)"
   ]
  },
  {
   "cell_type": "code",
   "execution_count": 29,
   "id": "130cf2d5-e9d4-4c31-b45e-3fad44a9f0b5",
   "metadata": {},
   "outputs": [
    {
     "name": "stdout",
     "output_type": "stream",
     "text": [
      "MAE: 2766.848\n",
      "MSE: 27880108.916\n",
      "RMSE: 5280.162\n"
     ]
    }
   ],
   "source": [
    "mae_rfr, mse_rfr, rmse_rfr = run_model(randomreg)"
   ]
  },
  {
   "cell_type": "markdown",
   "id": "8e409656-a364-49b8-9bf0-347f1a8e40c1",
   "metadata": {},
   "source": [
    "### RandomForestRegressor Tuning"
   ]
  },
  {
   "cell_type": "code",
   "execution_count": 30,
   "id": "607299c5-9d89-4e4f-a0dc-6bc97c11abaf",
   "metadata": {},
   "outputs": [
    {
     "data": {
      "text/plain": [
       "GridSearchCV(cv=5, error_score='raise',\n",
       "             estimator=RandomForestRegressor(random_state=42847), n_jobs=-1,\n",
       "             param_grid={'bootstrap': [True, False],\n",
       "                         'max_features': ['auto', 'sqrt', 'log2'],\n",
       "                         'min_samples_split': [2, 4, 8],\n",
       "                         'n_estimators': [10, 20, 30]},\n",
       "             scoring='neg_root_mean_squared_error')"
      ]
     },
     "execution_count": 30,
     "metadata": {},
     "output_type": "execute_result"
    }
   ],
   "source": [
    "randomreg = RandomForestRegressor(random_state = rs)\n",
    "\n",
    "params = {\n",
    "    'n_estimators': [10, 20, 30],\n",
    "    'max_features': ['auto', 'sqrt', 'log2'],\n",
    "    'min_samples_split': [2, 4, 8],\n",
    "    'bootstrap': [True, False]\n",
    "}\n",
    "\n",
    "rfr_search = GridSearchCV(randomreg,\n",
    "                          params, \n",
    "                          scoring = 'neg_root_mean_squared_error',\n",
    "                          error_score = 'raise',\n",
    "                          n_jobs = -1,\n",
    "                          verbose = 0,\n",
    "                          cv = 5)\n",
    "\n",
    "rfr_search.fit(X_train, y_train)"
   ]
  },
  {
   "cell_type": "code",
   "execution_count": 31,
   "id": "b5ce4c3c-9c5e-4343-a6da-473799aecba4",
   "metadata": {},
   "outputs": [
    {
     "data": {
      "text/plain": [
       "{'bootstrap': True,\n",
       " 'max_features': 'auto',\n",
       " 'min_samples_split': 8,\n",
       " 'n_estimators': 30}"
      ]
     },
     "execution_count": 31,
     "metadata": {},
     "output_type": "execute_result"
    }
   ],
   "source": [
    "rfr_search.best_params_"
   ]
  },
  {
   "cell_type": "code",
   "execution_count": 32,
   "id": "f89435e0-d82e-4d57-93cc-16a7c490bef8",
   "metadata": {},
   "outputs": [
    {
     "name": "stdout",
     "output_type": "stream",
     "text": [
      "MAE: 2720.655\n",
      "MSE: 26969677.322\n",
      "RMSE: 5193.234\n"
     ]
    }
   ],
   "source": [
    "rfr_model = rfr_search.best_estimator_\n",
    "mae_rfr, mse_rfr, rmse_rfr = run_model(rfr_model)"
   ]
  },
  {
   "cell_type": "markdown",
   "id": "8a64c305-7730-4ebf-a70a-d6e751b56bd8",
   "metadata": {},
   "source": [
    "## 03 Ridge Regression"
   ]
  },
  {
   "cell_type": "code",
   "execution_count": 33,
   "id": "b5890c21-6b77-4a1d-97d0-868d6fd0fc8d",
   "metadata": {},
   "outputs": [
    {
     "name": "stdout",
     "output_type": "stream",
     "text": [
      "MAE: 4542.96\n",
      "MSE: 43100886.662\n",
      "RMSE: 6565.127\n"
     ]
    }
   ],
   "source": [
    "ridge = Ridge(random_state = rs)\n",
    "mae_ridge, mse_ridge, rmse_ridge = run_model(ridge)"
   ]
  },
  {
   "cell_type": "markdown",
   "id": "18b56656-68ab-492a-8e7a-534142ffd907",
   "metadata": {},
   "source": [
    "### Ridge Regression Tuning"
   ]
  },
  {
   "cell_type": "code",
   "execution_count": 34,
   "id": "bc0d5ef1-03c8-4b9e-93b0-2f5f8ba50103",
   "metadata": {},
   "outputs": [
    {
     "name": "stdout",
     "output_type": "stream",
     "text": [
      "alpha = 0.001\n",
      "MAE: 4532.355\n",
      "MSE: 43075145.574\n",
      "RMSE: 6563.166\n",
      "---\n",
      "alpha = 0.01\n",
      "MAE: 4532.451\n",
      "MSE: 43075339.877\n",
      "RMSE: 6563.181\n",
      "---\n",
      "alpha = 0.1\n",
      "MAE: 4533.41\n",
      "MSE: 43077320.96\n",
      "RMSE: 6563.332\n",
      "---\n",
      "alpha = 0.5\n",
      "MAE: 4537.659\n",
      "MSE: 43086957.264\n",
      "RMSE: 6564.066\n",
      "---\n",
      "alpha = 1.0\n",
      "MAE: 4542.96\n",
      "MSE: 43100886.662\n",
      "RMSE: 6565.127\n",
      "---\n",
      "alpha = 10\n",
      "MAE: 4640.135\n",
      "MSE: 43666376.453\n",
      "RMSE: 6608.054\n",
      "---\n",
      "alpha = 100\n",
      "MAE: 5481.88\n",
      "MSE: 60500857.665\n",
      "RMSE: 7778.23\n",
      "---\n"
     ]
    }
   ],
   "source": [
    "for i in [0.001, 0.01, 0.1, 0.5, 1.0, 10, 100]:\n",
    "    ridge = Ridge(random_state = rs, alpha = i)\n",
    "    print(f'alpha = {i}')\n",
    "    run_model(ridge)\n",
    "    print(\"---\")"
   ]
  },
  {
   "cell_type": "code",
   "execution_count": 35,
   "id": "41cca483-72f2-425c-9cd2-6e53f372a1f6",
   "metadata": {},
   "outputs": [
    {
     "name": "stdout",
     "output_type": "stream",
     "text": [
      "MAE: 4532.451\n",
      "MSE: 43075339.877\n",
      "RMSE: 6563.181\n"
     ]
    }
   ],
   "source": [
    "ridge = Ridge(random_state = rs, alpha = 0.01)\n",
    "mae_ridge, mse_ridge, rmse_ridge = run_model(ridge)"
   ]
  },
  {
   "cell_type": "markdown",
   "id": "27e301db-ff2e-4aa1-b919-3228673fb84c",
   "metadata": {},
   "source": [
    "## 04 Lasso Regression"
   ]
  },
  {
   "cell_type": "code",
   "execution_count": 36,
   "id": "7224e0e6-3f6b-47f3-93af-b02ebf496a48",
   "metadata": {},
   "outputs": [
    {
     "name": "stdout",
     "output_type": "stream",
     "text": [
      "MAE: 4532.579\n",
      "MSE: 43074041.263\n",
      "RMSE: 6563.082\n"
     ]
    }
   ],
   "source": [
    "lasso = Lasso(random_state = rs)\n",
    "mae_lasso, mse_lasso, rmse_lasso = run_model(lasso)"
   ]
  },
  {
   "cell_type": "markdown",
   "id": "aa2e5294-bcf6-410b-b7e7-76e2e36749f6",
   "metadata": {},
   "source": [
    "### Lasso Regression Tuning"
   ]
  },
  {
   "cell_type": "code",
   "execution_count": 37,
   "id": "06cb22d4-e17f-47a7-81be-f246bf2a5bdf",
   "metadata": {},
   "outputs": [
    {
     "name": "stdout",
     "output_type": "stream",
     "text": [
      "alpha = 0.001\n",
      "MAE: 4532.344\n",
      "MSE: 43075122.934\n",
      "RMSE: 6563.164\n",
      "---\n",
      "alpha = 0.01\n",
      "MAE: 4532.346\n",
      "MSE: 43075113.094\n",
      "RMSE: 6563.163\n",
      "---\n",
      "alpha = 0.1\n",
      "MAE: 4532.368\n",
      "MSE: 43075014.734\n",
      "RMSE: 6563.156\n",
      "---\n",
      "alpha = 0.5\n",
      "MAE: 4532.461\n",
      "MSE: 43074579.948\n",
      "RMSE: 6563.123\n",
      "---\n",
      "alpha = 1.0\n",
      "MAE: 4532.579\n",
      "MSE: 43074041.263\n",
      "RMSE: 6563.082\n",
      "---\n",
      "alpha = 10\n",
      "MAE: 4535.494\n",
      "MSE: 43072274.388\n",
      "RMSE: 6562.947\n",
      "---\n",
      "alpha = 100\n",
      "MAE: 4569.692\n",
      "MSE: 43154246.476\n",
      "RMSE: 6569.189\n",
      "---\n"
     ]
    }
   ],
   "source": [
    "for i in [0.001, 0.01, 0.1, 0.5, 1.0, 10, 100]:\n",
    "    lasso = Lasso(random_state = rs, alpha = i)\n",
    "    print(f'alpha = {i}')\n",
    "    run_model(lasso)\n",
    "    print(\"---\")"
   ]
  },
  {
   "cell_type": "code",
   "execution_count": 38,
   "id": "a5f12129-4fed-4370-82f2-211b1f81f983",
   "metadata": {},
   "outputs": [
    {
     "name": "stdout",
     "output_type": "stream",
     "text": [
      "MAE: 4569.692\n",
      "MSE: 43154246.476\n",
      "RMSE: 6569.189\n"
     ]
    }
   ],
   "source": [
    "lasso = Lasso(random_state = rs, alpha = 100)\n",
    "mae_lasso, mse_lasso, rmse_lasso = run_model(lasso)"
   ]
  },
  {
   "cell_type": "markdown",
   "id": "319bfa12-b482-4c6a-aae5-07b3555aeba1",
   "metadata": {},
   "source": [
    "## 05 Bayesian Ridge Regression"
   ]
  },
  {
   "cell_type": "code",
   "execution_count": 39,
   "id": "7f3cb67e-ecde-431a-8913-457a88004e38",
   "metadata": {},
   "outputs": [
    {
     "name": "stdout",
     "output_type": "stream",
     "text": [
      "MAE: 4536.282\n",
      "MSE: 43083681.535\n",
      "RMSE: 6563.816\n"
     ]
    }
   ],
   "source": [
    "bayrid = BayesianRidge()\n",
    "mae_br, mse_br, rmse_br = run_model(bayrid)"
   ]
  },
  {
   "cell_type": "markdown",
   "id": "c746603f-0b81-4386-8267-d35db5fc10bd",
   "metadata": {},
   "source": [
    "### Bayesian Ridge Regression Tuning"
   ]
  },
  {
   "cell_type": "code",
   "execution_count": 40,
   "id": "b7f3afd6-5aab-49a1-8581-8b8ae54671ab",
   "metadata": {},
   "outputs": [
    {
     "name": "stdout",
     "output_type": "stream",
     "text": [
      "MAE: 4536.282\n",
      "MSE: 43083681.535\n",
      "RMSE: 6563.816\n"
     ]
    }
   ],
   "source": [
    "bayrid = BayesianRidge()\n",
    "\n",
    "params = {\n",
    "    'n_iter': [10, 100, 300, 500, 1000, 5000],\n",
    "    'alpha_init':[1, 1.1, 1.2, 1.3, 1.4, 1.5, 1.9],\n",
    "    'lambda_init': [1e-1, 1e-2, 1e-3, 1e-4, 1e-5, 1e-6, 1e-9]\n",
    "}\n",
    "\n",
    "bayrid_search = GridSearchCV(bayrid,\n",
    "                          params, \n",
    "                          scoring = 'neg_root_mean_squared_error',\n",
    "                          error_score = 'raise',\n",
    "                          n_jobs = -1,\n",
    "                          verbose = 0,\n",
    "                          cv = 5)\n",
    "\n",
    "bayrid_search.fit(X_train, y_train)\n",
    "\n",
    "bayrid_search = bayrid_search.best_estimator_\n",
    "mae_br, mse_br, rmse_br = run_model(bayrid_search)"
   ]
  },
  {
   "cell_type": "markdown",
   "id": "6b67daab-2d47-4491-9662-0fabecc12a4f",
   "metadata": {},
   "source": [
    "## 06 Support Vector Regression"
   ]
  },
  {
   "cell_type": "code",
   "execution_count": 41,
   "id": "38e88394-8091-446e-95b3-ab96ee1d7885",
   "metadata": {},
   "outputs": [
    {
     "name": "stdout",
     "output_type": "stream",
     "text": [
      "MAE: 9470.777\n",
      "MSE: 200933637.018\n",
      "RMSE: 14175.106\n"
     ]
    }
   ],
   "source": [
    "svr = SVR()\n",
    "mse_svr, mse_svr, rmse_svr = run_model(svr)"
   ]
  },
  {
   "cell_type": "markdown",
   "id": "b8779d77-ccd6-48ed-a4b4-a7422ecba436",
   "metadata": {},
   "source": [
    "### Support Vector Regression Tuning"
   ]
  },
  {
   "cell_type": "code",
   "execution_count": 42,
   "id": "0bafc49a-975d-4e8a-8c29-28f1513fa8ef",
   "metadata": {},
   "outputs": [
    {
     "name": "stdout",
     "output_type": "stream",
     "text": [
      "MAE: 4400.925\n",
      "MSE: 85193386.641\n",
      "RMSE: 9230.026\n"
     ]
    }
   ],
   "source": [
    "svr = SVR()\n",
    "\n",
    "params = {\n",
    "    'kernel': ['linear', 'poly', 'rbf'],\n",
    "    'degree': [1, 2, 3],\n",
    "    'coef0': [0, 100],\n",
    "    'C': [0.5, 1, 5],\n",
    "    'epsilon': [0.1, 0.5]\n",
    "}\n",
    "\n",
    "svr_search = GridSearchCV(svr,\n",
    "                          params, \n",
    "                          scoring = 'neg_root_mean_squared_error',\n",
    "                          error_score = 'raise',\n",
    "                          n_jobs = -1,\n",
    "                          verbose = 0,\n",
    "                          cv = 5)\n",
    "\n",
    "svr_search.fit(X_train, y_train)\n",
    "\n",
    "svr_search = svr_search.best_estimator_\n",
    "mse_svr, mse_svr, rmse_svr = run_model(svr_search)"
   ]
  },
  {
   "cell_type": "markdown",
   "id": "b15161b1-d232-43d2-80cd-873291bff0cc",
   "metadata": {},
   "source": [
    "# Results"
   ]
  },
  {
   "cell_type": "code",
   "execution_count": 43,
   "id": "d9389ed7-98e0-4266-8765-9cc2260f2a3d",
   "metadata": {},
   "outputs": [],
   "source": [
    "metrics = {\n",
    "    'DummyModel': rmse_dummy,\n",
    "    'LinearRegression': rmse_linreg,\n",
    "    'RandomForestRegressor': rmse_rfr,\n",
    "    'RidgeRegression': rmse_ridge,\n",
    "    'LassoRegression': rmse_lasso,\n",
    "    'BayesianRegression': rmse_br,\n",
    "    'SupportVectorRegression': rmse_svr\n",
    "}"
   ]
  },
  {
   "cell_type": "code",
   "execution_count": 44,
   "id": "2b6b9de6-af1b-4c66-907d-984d675b8747",
   "metadata": {},
   "outputs": [
    {
     "data": {
      "text/html": [
       "<div>\n",
       "<style scoped>\n",
       "    .dataframe tbody tr th:only-of-type {\n",
       "        vertical-align: middle;\n",
       "    }\n",
       "\n",
       "    .dataframe tbody tr th {\n",
       "        vertical-align: top;\n",
       "    }\n",
       "\n",
       "    .dataframe thead th {\n",
       "        text-align: right;\n",
       "    }\n",
       "</style>\n",
       "<table border=\"1\" class=\"dataframe\">\n",
       "  <thead>\n",
       "    <tr style=\"text-align: right;\">\n",
       "      <th></th>\n",
       "      <th>Model</th>\n",
       "      <th>RMSE</th>\n",
       "    </tr>\n",
       "  </thead>\n",
       "  <tbody>\n",
       "    <tr>\n",
       "      <th>2</th>\n",
       "      <td>RandomForestRegressor</td>\n",
       "      <td>5193.233802</td>\n",
       "    </tr>\n",
       "    <tr>\n",
       "      <th>1</th>\n",
       "      <td>LinearRegression</td>\n",
       "      <td>6563.164178</td>\n",
       "    </tr>\n",
       "    <tr>\n",
       "      <th>3</th>\n",
       "      <td>RidgeRegression</td>\n",
       "      <td>6563.180622</td>\n",
       "    </tr>\n",
       "    <tr>\n",
       "      <th>5</th>\n",
       "      <td>BayesianRegression</td>\n",
       "      <td>6563.816080</td>\n",
       "    </tr>\n",
       "    <tr>\n",
       "      <th>4</th>\n",
       "      <td>LassoRegression</td>\n",
       "      <td>6569.189179</td>\n",
       "    </tr>\n",
       "    <tr>\n",
       "      <th>6</th>\n",
       "      <td>SupportVectorRegression</td>\n",
       "      <td>9230.026362</td>\n",
       "    </tr>\n",
       "    <tr>\n",
       "      <th>0</th>\n",
       "      <td>DummyModel</td>\n",
       "      <td>13205.579935</td>\n",
       "    </tr>\n",
       "  </tbody>\n",
       "</table>\n",
       "</div>"
      ],
      "text/plain": [
       "                     Model          RMSE\n",
       "2    RandomForestRegressor   5193.233802\n",
       "1         LinearRegression   6563.164178\n",
       "3          RidgeRegression   6563.180622\n",
       "5       BayesianRegression   6563.816080\n",
       "4          LassoRegression   6569.189179\n",
       "6  SupportVectorRegression   9230.026362\n",
       "0               DummyModel  13205.579935"
      ]
     },
     "execution_count": 44,
     "metadata": {},
     "output_type": "execute_result"
    }
   ],
   "source": [
    "df_metrics = pd.DataFrame(metrics.items(), columns = ['Model', 'RMSE'])\n",
    "df_metrics.sort_values('RMSE')"
   ]
  },
  {
   "cell_type": "markdown",
   "id": "bcbb3319-fbf9-4317-988f-9d1babc72ed1",
   "metadata": {},
   "source": [
    "From the above table, we see that the model that gives us the least _Root Mean Squared Error_ is the RandomForestRegressor. So let's go ahead and save it."
   ]
  },
  {
   "cell_type": "markdown",
   "id": "713ff9fd-b782-4379-829a-4ad9a91d74db",
   "metadata": {},
   "source": [
    "# Saving the Model"
   ]
  },
  {
   "cell_type": "markdown",
   "id": "25f31318-e40e-48d3-8cdf-6e3294f8b936",
   "metadata": {},
   "source": [
    "Our best model is the **\"rfr_model\"**, the RandomForestRegressor model obtained from de GridSearchCV."
   ]
  },
  {
   "cell_type": "code",
   "execution_count": 45,
   "id": "e2fb581c-3817-4d36-89b1-bde914671975",
   "metadata": {},
   "outputs": [],
   "source": [
    "model = rfr_model\n",
    "output_file = 'model_randomforestregressor.bin'\n",
    "\n",
    "with open(output_file, 'wb') as f_out:\n",
    "    pickle.dump(model, f_out)"
   ]
  },
  {
   "cell_type": "code",
   "execution_count": null,
   "id": "e1bb950e-dc02-4ae1-8b0c-4b3887ac7002",
   "metadata": {},
   "outputs": [],
   "source": []
  }
 ],
 "metadata": {
  "interpreter": {
   "hash": "ca8d2ff1c3551a1b72fca2d6d296af1dba5e4b41b46785c1c4c6074e14e30aef"
  },
  "kernelspec": {
   "display_name": "Python 3.8.10 64-bit ('project-insurance-forecast-KgqNwIe7': pipenv)",
   "name": "python3"
  },
  "language_info": {
   "codemirror_mode": {
    "name": "ipython",
    "version": 3
   },
   "file_extension": ".py",
   "mimetype": "text/x-python",
   "name": "python",
   "nbconvert_exporter": "python",
   "pygments_lexer": "ipython3",
   "version": "3.8.10"
  }
 },
 "nbformat": 4,
 "nbformat_minor": 5
}
